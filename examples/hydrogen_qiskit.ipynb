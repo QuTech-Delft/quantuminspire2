{
 "cells": [
  {
   "metadata": {},
   "cell_type": "markdown",
   "source": "# Hydrogen algorithm for QAL Quantum Inspire hybrid computing workshop ",
   "id": "b48c3683d38cabf"
  },
  {
   "metadata": {},
   "cell_type": "markdown",
   "source": [
    "This notebook describes running a hybrid quantum classical algorith to calculate the electronic ground state energy of a hydrogen molecule on the Quantum Inspire platform.\n",
    "\n",
    "Part of the cells in the notebook are to be executed. Another part are to be copied to another file."
   ],
   "id": "e7de03d20a964a8"
  },
  {
   "metadata": {},
   "cell_type": "markdown",
   "source": [
    "### Setting up the algorithm Python file\n",
    "\n",
    "We start by make a new empty Python file to hold the algorithm."
   ],
   "id": "66d29b62f486f266"
  },
  {
   "cell_type": "code",
   "id": "initial_id",
   "metadata": {
    "collapsed": true
   },
   "source": [
    "from pathlib import Path\n",
    "\n",
    "filename = str(Path.cwd() / \"hydrogen_algorithm.py\") \n",
    "!touch {filename}"
   ],
   "outputs": [],
   "execution_count": null
  },
  {
   "metadata": {},
   "cell_type": "markdown",
   "source": "Add an `execute` and a `finalize` function to the file with the following input arguments:",
   "id": "9e06c3bfbc525b76"
  },
  {
   "metadata": {},
   "cell_type": "code",
   "source": [
    "from typing import Any\n",
    "from quantuminspire.util.api.quantum_interface import QuantumInterface\n",
    "\n",
    "\n",
    "def execute(qi: QuantumInterface) -> None:\n",
    "    ...\n",
    "\n",
    "def finalize(results: Any) -> dict[str, Any]:\n",
    "    ..."
   ],
   "id": "8daaf3f52f28f96e",
   "outputs": [],
   "execution_count": null
  },
  {
   "metadata": {},
   "cell_type": "markdown",
   "source": "Have the `execute` function add something to the results, and have `finalize` return them:",
   "id": "6614ddb463e43d1c"
  },
  {
   "metadata": {},
   "cell_type": "code",
   "source": [
    "from typing import Any\n",
    "from quantuminspire.util.api.quantum_interface import QuantumInterface\n",
    "\n",
    "\n",
    "def execute(qi: QuantumInterface) -> None:\n",
    "    qi.results = {\"results\": 2}\n",
    "\n",
    "def finalize(results: Any) -> dict[str, Any]:\n",
    "    return results"
   ],
   "id": "5999967ad19c277d",
   "outputs": [],
   "execution_count": null
  },
  {
   "metadata": {},
   "cell_type": "markdown",
   "source": "Use the `print_output` function to execute the Python file and print its output:",
   "id": "bc44c6b00b985cd7"
  },
  {
   "metadata": {},
   "cell_type": "code",
   "source": [
    "def print_output():\n",
    "    output = !poetry run qi files run {filename}\n",
    "    print(output)\n",
    "    \n",
    "print_output()"
   ],
   "id": "4031bb12fe6b4615",
   "outputs": [],
   "execution_count": null
  },
  {
   "metadata": {},
   "cell_type": "markdown",
   "source": [
    "### Adding the hydrogen algorithm\n",
    "\n",
    "In the next couple of cells, we will be adding the hydrogen algorithm to the `execute` function. Add these commands to the function.\n",
    "\n",
    "Specify a molecule configuration with the distance between the atoms. Make a molecule driver from this, and use it to generate an ElectronicStructureProblem."
   ],
   "id": "1d27bafa8e78106a"
  },
  {
   "metadata": {},
   "cell_type": "code",
   "source": [
    "from qiskit_nature.second_q.drivers import PySCFDriver\n",
    "\n",
    "distance = 0.735\n",
    "molecule = f\"H 0.0 0.0 0.0; H 0.0 0.0 {distance}\"\n",
    "driver = PySCFDriver(molecule)\n",
    "es_problem = driver.run()"
   ],
   "id": "b38435ca858dbfdc",
   "outputs": [],
   "execution_count": null
  },
  {
   "metadata": {},
   "cell_type": "markdown",
   "source": "Get the fermionic (electronic creation and annihilation) operators and store some useful attributes for later ",
   "id": "251ab265f723f139"
  },
  {
   "metadata": {},
   "cell_type": "code",
   "source": [
    "fermionic_op = es_problem.hamiltonian.second_q_op()\n",
    "n_particles = es_problem.num_particles\n",
    "n_spatial_orbitals = es_problem.num_spatial_orbitals\n",
    "nuclear_repulsion_energy = es_problem.nuclear_repulsion_energy"
   ],
   "id": "477e8407a0431666",
   "outputs": [],
   "execution_count": null
  },
  {
   "metadata": {},
   "cell_type": "markdown",
   "source": "Map the fermionic (electronic) operators for the Hamiltonian onto qubit operators:",
   "id": "6c7e16c0f2820b49"
  },
  {
   "metadata": {},
   "cell_type": "code",
   "source": [
    "from qiskit_nature.second_q.mappers import ParityMapper\n",
    "\n",
    "mapper = ParityMapper(num_particles=(1, 1))\n",
    "qubit_op = mapper.map(fermionic_op)"
   ],
   "id": "fc33cb8697944cfc",
   "outputs": [],
   "execution_count": null
  },
  {
   "metadata": {},
   "cell_type": "markdown",
   "source": "Make the ansatz from the initial state, using the same mapper:",
   "id": "a1bf4fee6fd38098"
  },
  {
   "metadata": {},
   "cell_type": "code",
   "source": [
    "from qiskit_nature.second_q.circuit.library import HartreeFock, UCCSD\n",
    "\n",
    "initial_state = HartreeFock(n_spatial_orbitals, n_particles, mapper)\n",
    "ansatz = UCCSD(n_spatial_orbitals, n_particles, mapper, initial_state=initial_state)"
   ],
   "id": "1d3a53b494fc14f4",
   "outputs": [],
   "execution_count": null
  },
  {
   "metadata": {},
   "cell_type": "markdown",
   "source": "Use Quantum Inspire's Qiskit backend to make the estimator:",
   "id": "7b158797c551827a"
  },
  {
   "metadata": {},
   "cell_type": "code",
   "source": [
    "from qiskit.primitives import BackendEstimator\n",
    "from quantuminspire.sdk.qiskit.backend import QuantumInspireBackend\n",
    "\n",
    "backend = QuantumInspireBackend(qi)  # qi is passed into `execute`\n",
    "estimator = BackendEstimator(backend=backend)"
   ],
   "id": "1fb2c8afaac72b5d",
   "outputs": [],
   "execution_count": null
  },
  {
   "metadata": {},
   "cell_type": "markdown",
   "source": "Make the optimizer:",
   "id": "4239c37767049c0b"
  },
  {
   "metadata": {},
   "cell_type": "code",
   "source": [
    "from qiskit_algorithms.optimizers import COBYLA\n",
    "\n",
    "optimizer = COBYLA(maxiter=1)"
   ],
   "id": "728112b2b33aa466",
   "outputs": [],
   "execution_count": null
  },
  {
   "metadata": {},
   "cell_type": "markdown",
   "source": "Put everything together to make the VQE algorithm, and run it to get the result:",
   "id": "31c9e48ce16f2142"
  },
  {
   "metadata": {},
   "cell_type": "code",
   "source": [
    "from qiskit_algorithms import VQE\n",
    "\n",
    "algo = VQE(estimator, ansatz, optimizer)\n",
    "result = algo.compute_minimum_eigenvalue(qubit_op)"
   ],
   "id": "21c37beed3723f1c",
   "outputs": [],
   "execution_count": null
  },
  {
   "metadata": {},
   "cell_type": "markdown",
   "source": "Replace the returned result with the distance and the total energy. The total energy is the sum of the eigenvalue calculated by the algorithm and the nuclear repulsion energy. ",
   "id": "5632d24632222883"
  },
  {
   "metadata": {},
   "cell_type": "code",
   "source": "qi.results = {\"results\": [{\"distance\": distance, \"total_energy\": result.eigenvalue + nuclear_repulsion_energy}]}",
   "id": "1748e8c980182c56",
   "outputs": [],
   "execution_count": null
  },
  {
   "metadata": {},
   "cell_type": "markdown",
   "source": "Print the output to show the distance and the total energy",
   "id": "4cbcdab535882a1c"
  },
  {
   "metadata": {},
   "cell_type": "code",
   "source": "print_output()",
   "id": "dcee350bc09a7064",
   "outputs": [],
   "execution_count": null
  },
  {
   "metadata": {},
   "cell_type": "markdown",
   "source": [
    "### Varying the distance between the atoms\n",
    "\n",
    "Now that we can calculate the total energy for a single distance, let's vary the distance and see what happens.\n",
    "\n",
    "Wrap the entire body of the execute function in a for loop to loop over different distances, replacing the constant `distance`."
   ],
   "id": "a068b97588e58d8b"
  },
  {
   "metadata": {},
   "cell_type": "code",
   "source": [
    "import numpy as np\n",
    "\n",
    "def execute(qi: QuantumInterface) -> None:\n",
    "    distances = np.arange(0.3, 2.5, 0.1)\n",
    "    results = []\n",
    "    for distance in distances:\n",
    "        ...  # execute body\n",
    "        result_dict = {\"distance\": distance, \"total_energy\": result.eigenvalue + nuclear_repulsion_energy}\n",
    "        results.append(result_dict)\n",
    "    \n",
    "    qi.results = {\"results\": results}"
   ],
   "id": "fb84e1461cd3efcb",
   "outputs": [],
   "execution_count": null
  },
  {
   "metadata": {},
   "cell_type": "markdown",
   "source": "Print the output to see the total energy for different distances:",
   "id": "3be6069522c094ba"
  },
  {
   "metadata": {},
   "cell_type": "code",
   "source": "print_output()",
   "id": "378ee61864fa2526",
   "outputs": [],
   "execution_count": null
  },
  {
   "metadata": {},
   "cell_type": "markdown",
   "source": "For a visual representation, you can plot the total energy vs the distance:",
   "id": "2d1e81329d1eb698"
  },
  {
   "metadata": {},
   "cell_type": "code",
   "source": [
    "from json import loads\n",
    "import matplotlib.pyplot as plt\n",
    "\n",
    "def plot_output():\n",
    "    output = !poetry run qi files run {filename}\n",
    "    results = loads(output[-1].replace(\"'\", '\"'))[\"results\"]\n",
    "    distances, energies = [[result[key] for result in results] for key in [\"distance\", \"total_energy\"]]\n",
    "    fig, ax = plt.subplots()\n",
    "    ax.plot(distances, energies)\n",
    "    ax.set_xlabel(\"Distance (Angstrom)\")\n",
    "    ax.set_ylabel(\"Potential energy (a.u.)\")\n",
    "    return fig, ax\n",
    "\n",
    "plot_output()"
   ],
   "id": "2c9176f1873ad3c7",
   "outputs": [],
   "execution_count": null
  },
  {
   "metadata": {},
   "cell_type": "markdown",
   "source": "You can see a decreasing function in energy, the atoms start repelling each other at low distances, but it is noisy and there is no clear minimal distance.",
   "id": "30c20be68b6169db"
  },
  {
   "metadata": {},
   "cell_type": "markdown",
   "source": [
    "### Changing optimizer settings\n",
    "\n",
    "Let's try again with more iterations for the optimizer:"
   ],
   "id": "12532766a5255712"
  },
  {
   "metadata": {},
   "cell_type": "code",
   "source": [
    "# optimizer = COBYLA(maxiter=10)  # replace in file\n",
    "\n",
    "plot_output()"
   ],
   "id": "3cd4588bbfe09334",
   "outputs": [],
   "execution_count": null
  },
  {
   "metadata": {},
   "cell_type": "markdown",
   "source": "And then some more iterations (this may take some minutes)",
   "id": "18bf8f2a8edddf32"
  },
  {
   "metadata": {},
   "cell_type": "code",
   "source": [
    "# optimizer = COBYLA(maxiter=100)  # replace in file\n",
    "\n",
    "plot_output()"
   ],
   "id": "5be01bb287638732",
   "outputs": [],
   "execution_count": null
  },
  {
   "metadata": {},
   "cell_type": "markdown",
   "source": "Other optimizers are available in `qiskit_algorithms.optimizers` (https://qiskit-community.github.io/qiskit-algorithms/apidocs/qiskit_algorithms.optimizers.html). Finding the best one depends on the problem.",
   "id": "1b1cc8d9d57d3a6e"
  },
  {
   "metadata": {},
   "cell_type": "code",
   "source": [
    "# from qiskit_algorithms.optimizers import NELDER_MEAD\n",
    "# \n",
    "# optimizer = NELDER_MEAD(maxiter=10)  # replace in file\n",
    "\n",
    "plot_output()"
   ],
   "id": "7c4ec6665a1799d2",
   "outputs": [],
   "execution_count": null
  },
  {
   "metadata": {},
   "cell_type": "markdown",
   "source": [
    "### Printing the circuit\n",
    "\n",
    "You can print the circuit that is executed. First we add the circuit to the results, in the file, next we print it with the `print_circuit` function. "
   ],
   "id": "caa4cf925d934c99"
  },
  {
   "metadata": {},
   "cell_type": "code",
   "source": [
    "from qiskit import transpile\n",
    "\n",
    "transpiled_circuit = transpile(result.optimal_circuit, basis_gates=['ry', 'h', 'cx', 'x', 'sdg', 'rz', 's'])\n",
    "result_dict[\"circuit\"] = repr(transpiled_circuit.draw()).replace(\"'\", '\"')\n",
    "result_dict[\"circuit_depth\"] = transpiled_circuit.depth()\n"
   ],
   "id": "7edac0283f5608f8",
   "outputs": [],
   "execution_count": null
  },
  {
   "metadata": {},
   "cell_type": "markdown",
   "source": "",
   "id": "f6357e31c4ddbb2e"
  },
  {
   "metadata": {},
   "cell_type": "code",
   "source": [
    "from json import loads\n",
    "\n",
    "def print_circuit(index: int = 0):\n",
    "    output = !poetry run qi files run {filename}\n",
    "    results = loads(output[-1].replace(\"'\", '\"'))[\"results\"]\n",
    "    circuits, circuit_depths = [[result[key] for result in results] for key in [\"circuit\", \"circuit_depth\"]]\n",
    "    print(circuits[index])\n",
    "    print(f\"circuit_depth={circuit_depths[index]}\")\n",
    "    \n",
    "print_circuit()"
   ],
   "id": "d605454a9ede6840",
   "outputs": [],
   "execution_count": null
  },
  {
   "metadata": {},
   "cell_type": "markdown",
   "source": [
    "### Changing the qubit encoding\n",
    "\n",
    "We can use a different encoding, e.g. the Jordan-Wigner encoding, instead of the parity encoding."
   ],
   "id": "ee8f86ac5c47b80b"
  },
  {
   "metadata": {},
   "cell_type": "code",
   "source": [
    "# from qiskit_nature.second_q.mappers import JordanWignerMapper\n",
    "# \n",
    "# mapper = JordanWignerMapper()  # replace in file\n",
    "\n",
    "print_circuit()"
   ],
   "id": "5e209f7bd2c9090a",
   "outputs": [],
   "execution_count": null
  },
  {
   "metadata": {},
   "cell_type": "markdown",
   "source": [
    "### Running different optimization problems with VQE\n",
    "\n",
    "Instead of the hydrogen molecule, the VQE algorithm can also be used for different optimization problems. For this, we will replace the `qubit_op` (what we will measure), and the `ansatz` (how we will change the state to be measured). We will measure the operator `X + distance * Z` on one qubit. We have two parameters to optimize, which perform a rotation around the y-axis and then around the z-axis."
   ],
   "id": "71fece5c28338049"
  },
  {
   "metadata": {},
   "cell_type": "code",
   "source": [
    "# replace in the file\n",
    "from qiskit.quantum_info import SparsePauliOp\n",
    "\n",
    "qubit_op = SparsePauliOp([\"X\", \"Z\"], coeffs=np.array([1, distance]))  # e.g. 3-qubit bitstrings could be [\"XXY\", \"ZYX\"]\n",
    "nuclear_repulsion_energy = 0\n",
    "\n",
    "from qiskit import QuantumCircuit\n",
    "from qiskit.circuit import Parameter\n",
    "\n",
    "params = [Parameter(\"t_0\"), Parameter(\"t_1\")]\n",
    "ansatz = QuantumCircuit(1)  # 1 = number of qubits\n",
    "ansatz.ry(params[0], qubit=0)\n",
    "ansatz.rz(params[1], qubit=0)\n",
    "\n",
    "# add to the file\n",
    "result_dict[\"optimal_t_0\"] = result.optimal_parameters[params[0]]\n",
    "result_dict[\"optimal_t_1\"] = result.optimal_parameters[params[1]]"
   ],
   "id": "d94d3ecff8fb7e0d",
   "outputs": [],
   "execution_count": null
  },
  {
   "metadata": {},
   "cell_type": "markdown",
   "source": "Next we will plot the optimal parameters and the calculated \"energy\"",
   "id": "626ab8b8d9863237"
  },
  {
   "metadata": {},
   "cell_type": "code",
   "source": [
    "from json import loads\n",
    "import matplotlib.pyplot as plt\n",
    "import numpy as np\n",
    "\n",
    "\n",
    "def plot_outputs():\n",
    "    output = !poetry run qi files run {filename}\n",
    "    results = loads(output[-1].replace(\"'\", '\"'))[\"results\"]\n",
    "    keys = [\"distance\", \"total_energy\", \"optimal_t_0\", \"optimal_t_1\"]\n",
    "    distances, energies, optimal_t_0s, optimal_t_1s = [[result[key] for result in results] for key in keys]\n",
    "    fig, ax = plt.subplots()\n",
    "    ax.plot(distances, energies, label=\"Total Energy (a.u.)\")\n",
    "    ax.plot(distances, np.mod(optimal_t_0s, 2*np.pi) - np.pi, label=\"t_0 (rad)\")\n",
    "    ax.plot(distances, np.mod(optimal_t_1s, 2*np.pi) - np.pi, label=\"t_1 (rad)\")\n",
    "    ax.set_xlabel(\"Distance (Angstrom)\")\n",
    "    ax.legend()\n",
    "    return fig, ax\n",
    "\n",
    "plot_outputs()"
   ],
   "id": "6587e1cab0c242a",
   "outputs": [],
   "execution_count": null
  },
  {
   "metadata": {},
   "cell_type": "markdown",
   "source": [
    "Does it make sense what you see as optimization results?\n",
    "\n",
    "Can you make an optimization problem with two qubits? With three parameters? With more Pauli strings?\n",
    "\n",
    "What else can you think of?"
   ],
   "id": "6494604f5be12c96"
  },
  {
   "metadata": {},
   "cell_type": "markdown",
   "source": "",
   "id": "99edb42031a2154e"
  }
 ],
 "metadata": {
  "kernelspec": {
   "display_name": "Python 3",
   "language": "python",
   "name": "python3"
  },
  "language_info": {
   "codemirror_mode": {
    "name": "ipython",
    "version": 2
   },
   "file_extension": ".py",
   "mimetype": "text/x-python",
   "name": "python",
   "nbconvert_exporter": "python",
   "pygments_lexer": "ipython2",
   "version": "2.7.6"
  }
 },
 "nbformat": 4,
 "nbformat_minor": 5
}
